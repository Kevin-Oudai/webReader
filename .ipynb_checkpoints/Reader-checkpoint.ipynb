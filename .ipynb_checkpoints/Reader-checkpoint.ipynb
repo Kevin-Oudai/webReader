{
 "cells": [
  {
   "cell_type": "code",
   "execution_count": 1,
   "metadata": {},
   "outputs": [
    {
     "name": "stdout",
     "output_type": "stream",
     "text": [
      "The last read chapter is 14.\n",
      "Should I continue from this chapter?(Y/N): y\n",
      "How many chapters do you want to read? 5\n"
     ]
    },
    {
     "ename": "NameError",
     "evalue": "name 'novel' is not defined",
     "output_type": "error",
     "traceback": [
      "\u001b[1;31m---------------------------------------------------------------------------\u001b[0m",
      "\u001b[1;31mNameError\u001b[0m                                 Traceback (most recent call last)",
      "\u001b[1;32m<ipython-input-1-e5936ea5b950>\u001b[0m in \u001b[0;36m<module>\u001b[1;34m\u001b[0m\n\u001b[0;32m     63\u001b[0m \u001b[1;33m\u001b[0m\u001b[0m\n\u001b[0;32m     64\u001b[0m \u001b[1;33m\u001b[0m\u001b[0m\n\u001b[1;32m---> 65\u001b[1;33m \u001b[0mmain\u001b[0m\u001b[1;33m(\u001b[0m\u001b[1;33m)\u001b[0m\u001b[1;33m\u001b[0m\u001b[1;33m\u001b[0m\u001b[0m\n\u001b[0m",
      "\u001b[1;32m<ipython-input-1-e5936ea5b950>\u001b[0m in \u001b[0;36mmain\u001b[1;34m()\u001b[0m\n\u001b[0;32m     56\u001b[0m     \u001b[0mnumOfChapters\u001b[0m \u001b[1;33m=\u001b[0m \u001b[0mint\u001b[0m\u001b[1;33m(\u001b[0m\u001b[0minput\u001b[0m\u001b[1;33m(\u001b[0m\u001b[1;34m\"How many chapters do you want to read? \"\u001b[0m\u001b[1;33m)\u001b[0m\u001b[1;33m)\u001b[0m\u001b[1;33m\u001b[0m\u001b[1;33m\u001b[0m\u001b[0m\n\u001b[0;32m     57\u001b[0m     \u001b[1;32mfor\u001b[0m \u001b[0mi\u001b[0m \u001b[1;32min\u001b[0m \u001b[0mrange\u001b[0m\u001b[1;33m(\u001b[0m\u001b[0mchapter\u001b[0m\u001b[1;33m,\u001b[0m \u001b[0mchapter\u001b[0m \u001b[1;33m+\u001b[0m \u001b[0mnumOfChapters\u001b[0m\u001b[1;33m)\u001b[0m\u001b[1;33m:\u001b[0m\u001b[1;33m\u001b[0m\u001b[1;33m\u001b[0m\u001b[0m\n\u001b[1;32m---> 58\u001b[1;33m         \u001b[0murl\u001b[0m \u001b[1;33m=\u001b[0m \u001b[0mbase\u001b[0m\u001b[1;33m.\u001b[0m\u001b[0mformat\u001b[0m\u001b[1;33m(\u001b[0m\u001b[0mnovel\u001b[0m\u001b[1;33m,\u001b[0m \u001b[0mi\u001b[0m\u001b[1;33m)\u001b[0m\u001b[1;33m\u001b[0m\u001b[1;33m\u001b[0m\u001b[0m\n\u001b[0m\u001b[0;32m     59\u001b[0m         \u001b[0mdata\u001b[0m \u001b[1;33m=\u001b[0m \u001b[0mget_chapter\u001b[0m\u001b[1;33m(\u001b[0m\u001b[0murl\u001b[0m\u001b[1;33m)\u001b[0m\u001b[1;33m\u001b[0m\u001b[1;33m\u001b[0m\u001b[0m\n\u001b[0;32m     60\u001b[0m         \u001b[0mprint\u001b[0m\u001b[1;33m(\u001b[0m\u001b[1;34m\" \"\u001b[0m\u001b[1;33m,\u001b[0m \u001b[1;34m\"#\"\u001b[0m\u001b[1;33m*\u001b[0m\u001b[1;36m30\u001b[0m\u001b[1;33m,\u001b[0m \u001b[1;34m\"\\n\\tChapter \"\u001b[0m\u001b[1;33m,\u001b[0m \u001b[0mi\u001b[0m\u001b[1;33m,\u001b[0m \u001b[1;34m\"\\n\"\u001b[0m\u001b[1;33m,\u001b[0m \u001b[1;34m\"#\"\u001b[0m\u001b[1;33m*\u001b[0m\u001b[1;36m30\u001b[0m\u001b[1;33m)\u001b[0m\u001b[1;33m\u001b[0m\u001b[1;33m\u001b[0m\u001b[0m\n",
      "\u001b[1;31mNameError\u001b[0m: name 'novel' is not defined"
     ]
    }
   ],
   "source": [
    "import requests\n",
    "from bs4 import BeautifulSoup\n",
    "import pyttsx3\n",
    "\n",
    "\n",
    "def get_chapter(url):\n",
    "    response = requests.get(url)\n",
    "    if response.status_code == 200:\n",
    "        soup = BeautifulSoup(response.content, \"html.parser\")\n",
    "        cutPoint = \"If you find any errors ( broken links, non-standard content, etc.. ),\"\n",
    "        results = soup.find_all('p')\n",
    "        data = []\n",
    "        for i in range(2, len(results)):\n",
    "            if cutPoint in results[i].text:\n",
    "                break\n",
    "            data.append(results[i].text)\n",
    "        return data\n",
    "    elif response.status_code == 404:\n",
    "        return [\"Page Not Found\"]\n",
    "\n",
    "\n",
    "def read_chapter(data):\n",
    "    engine = pyttsx3.init()\n",
    "    # Change the rate of the reader to 250 when you are not reading along\n",
    "    engine.setProperty('rate', 300)\n",
    "    engine.setProperty('volume', 1.5)\n",
    "    for line in data:\n",
    "        print(line)\n",
    "        engine.say(line)\n",
    "        engine.runAndWait()\n",
    "    engine.stop()\n",
    "\n",
    "\n",
    "def getLastRead():\n",
    "    with open(\"lastRead.txt\") as f:\n",
    "        last = int(f.read())\n",
    "    return last\n",
    "\n",
    "\n",
    "def storeLastRead(chapter):\n",
    "    with open(\"lastRead.txt\", 'w') as f:\n",
    "        f.write(chapter)\n",
    "\n",
    "\n",
    "def main():\n",
    "    base = \"https://wuxianovels.org/{}/{}\"\n",
    "    # novel = \"rebirth-of-the-thief-who-roamed-the-world\"\n",
    "    # novel = \"martial-peak\"\n",
    "    # novel = \"i-alone-level-up\"\n",
    "    novel = \"rebirth-how-a-loser-became-a-prince-charming\"\n",
    "    chapter = getLastRead()\n",
    "    print(\"The last read chapter is {}.\".format(chapter))\n",
    "    choice = str(input(\"Should I continue from this chapter?(Y/N): \"))\n",
    "    if choice.upper() == \"N\":\n",
    "        chapter = int(input(\"Which chapter do you want to start from?: \"))\n",
    "    numOfChapters = int(input(\"How many chapters do you want to read? \"))\n",
    "    for i in range(chapter, chapter + numOfChapters):\n",
    "        url = base.format(novel, i)\n",
    "        data = get_chapter(url)\n",
    "        print(\" \", \"#\"*30, \"\\n\\tChapter \", i, \"\\n\", \"#\"*30)\n",
    "        read_chapter(data)\n",
    "        storeLastRead(str(i + 1))\n",
    "\n",
    "\n",
    "main()"
   ]
  },
  {
   "cell_type": "code",
   "execution_count": null,
   "metadata": {},
   "outputs": [],
   "source": []
  }
 ],
 "metadata": {
  "kernelspec": {
   "display_name": "Python 3",
   "language": "python",
   "name": "python3"
  },
  "language_info": {
   "codemirror_mode": {
    "name": "ipython",
    "version": 3
   },
   "file_extension": ".py",
   "mimetype": "text/x-python",
   "name": "python",
   "nbconvert_exporter": "python",
   "pygments_lexer": "ipython3",
   "version": "3.7.4"
  }
 },
 "nbformat": 4,
 "nbformat_minor": 2
}
